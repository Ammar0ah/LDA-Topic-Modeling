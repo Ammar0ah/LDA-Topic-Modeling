{
 "cells": [
  {
   "cell_type": "code",
   "execution_count": 1,
   "metadata": {},
   "outputs": [],
   "source": [
    "%run splitSpeechToText.ipynb notebook"
   ]
  },
  {
   "cell_type": "code",
   "execution_count": 1,
   "metadata": {
    "pycharm": {
     "name": "#%%\n"
    }
   },
   "outputs": [],
   "source": [
    "from sklearn.feature_extraction.text import CountVectorizer\n",
    "from sklearn.decomposition import LatentDirichletAllocation"
   ]
  },
  {
   "cell_type": "code",
   "execution_count": 2,
   "metadata": {
    "pycharm": {
     "name": "#%%\n"
    }
   },
   "outputs": [
    {
     "ename": "NameError",
     "evalue": "name 'df' is not defined",
     "output_type": "error",
     "traceback": [
      "\u001B[1;31m---------------------------------------------------------------------------\u001B[0m",
      "\u001B[1;31mNameError\u001B[0m                                 Traceback (most recent call last)",
      "\u001B[1;32m<ipython-input-2-87459da41363>\u001B[0m in \u001B[0;36m<module>\u001B[1;34m\u001B[0m\n\u001B[0;32m      1\u001B[0m \u001B[0mcv\u001B[0m \u001B[1;33m=\u001B[0m \u001B[0mCountVectorizer\u001B[0m\u001B[1;33m(\u001B[0m\u001B[0mmax_df\u001B[0m\u001B[1;33m=\u001B[0m\u001B[1;36m0.95\u001B[0m\u001B[1;33m,\u001B[0m\u001B[0mmin_df\u001B[0m\u001B[1;33m=\u001B[0m\u001B[1;36m0.01\u001B[0m\u001B[1;33m,\u001B[0m\u001B[0mstop_words\u001B[0m\u001B[1;33m=\u001B[0m\u001B[1;34m'english'\u001B[0m\u001B[1;33m)\u001B[0m\u001B[1;33m\u001B[0m\u001B[1;33m\u001B[0m\u001B[0m\n\u001B[1;32m----> 2\u001B[1;33m \u001B[0mdtm\u001B[0m \u001B[1;33m=\u001B[0m \u001B[0mcv\u001B[0m\u001B[1;33m.\u001B[0m\u001B[0mfit_transform\u001B[0m\u001B[1;33m(\u001B[0m\u001B[0mdf\u001B[0m\u001B[1;33m[\u001B[0m\u001B[1;34m\"content_cleaned\"\u001B[0m\u001B[1;33m]\u001B[0m\u001B[1;33m)\u001B[0m\u001B[1;33m\u001B[0m\u001B[1;33m\u001B[0m\u001B[0m\n\u001B[0m\u001B[0;32m      3\u001B[0m \u001B[0mdtm\u001B[0m\u001B[1;33m\u001B[0m\u001B[1;33m\u001B[0m\u001B[0m\n\u001B[0;32m      4\u001B[0m \u001B[1;33m\u001B[0m\u001B[0m\n",
      "\u001B[1;31mNameError\u001B[0m: name 'df' is not defined"
     ]
    }
   ],
   "source": [
    "cv = CountVectorizer(max_df=0.95,min_df=0.01,stop_words='english')\n",
    "dtm = cv.fit_transform(df[\"content_cleaned\"])\n",
    "dtm"
   ]
  },
  {
   "cell_type": "code",
   "execution_count": null,
   "metadata": {
    "pycharm": {
     "name": "#%%\n"
    }
   },
   "outputs": [],
   "source": [
    "LDA = LatentDirichletAllocation(n_components=10,random_state=42)\n",
    "LDA.fit(dtm)\n",
    "\n"
   ]
  },
  {
   "cell_type": "code",
   "execution_count": 15,
   "metadata": {
    "pycharm": {
     "name": "#%%\n"
    }
   },
   "outputs": [
    {
     "data": {
      "text/plain": "array([ 5.81537479, 12.04475953,  0.10000602, ...,  0.10001068,\n        0.110242  ,  0.10001147])"
     },
     "execution_count": 15,
     "metadata": {},
     "output_type": "execute_result"
    }
   ],
   "source": [
    " top_20 = LDA.components_[0].argsort()[-20:]\n",
    "LDA.components_[0]"
   ]
  },
  {
   "cell_type": "code",
   "execution_count": 6,
   "metadata": {
    "pycharm": {
     "name": "#%%\n"
    }
   },
   "outputs": [
    {
     "name": "stdout",
     "output_type": "stream",
     "text": [
      "chatbots\n",
      "way\n",
      "interview\n",
      "really\n",
      "product\n",
      "want\n",
      "build\n",
      "make\n",
      "work\n",
      "time\n",
      "machine\n",
      "language\n",
      "et\n",
      "machines\n",
      "companies\n",
      "artificial\n",
      "bot\n",
      "ai\n",
      "like\n",
      "intelligence\n"
     ]
    }
   ],
   "source": [
    "for index in top_20:\n",
    "    print(cv.get_feature_names()[index])\n"
   ]
  },
  {
   "cell_type": "code",
   "execution_count": 14,
   "metadata": {
    "pycharm": {
     "name": "#%%\n"
    }
   },
   "outputs": [
    {
     "data": {
      "text/plain": "array([ 776, 1076,  854], dtype=int64)"
     },
     "execution_count": 14,
     "metadata": {},
     "output_type": "execute_result"
    }
   ],
   "source": [
    " top_20 = LDA.components_[1].argsort()[-3:]\n",
    "top_20"
   ]
  },
  {
   "cell_type": "code",
   "execution_count": 8,
   "metadata": {
    "pycharm": {
     "name": "#%%\n"
    }
   },
   "outputs": [
    {
     "name": "stdout",
     "output_type": "stream",
     "text": [
      "input\n",
      "output\n",
      "layer\n"
     ]
    }
   ],
   "source": [
    "for index in top_20:\n",
    "    print(cv.get_feature_names()[index])\n"
   ]
  },
  {
   "cell_type": "code",
   "execution_count": 9,
   "metadata": {
    "pycharm": {
     "name": "#%%\n"
    }
   },
   "outputs": [
    {
     "name": "stdout",
     "output_type": "stream",
     "text": [
      "THE TOP 15 WORDS FOR TOPIC 0\n",
      "['want', 'build', 'make', 'work', 'time', 'machine', 'language', 'et', 'machines', 'companies', 'artificial', 'bot', 'ai', 'like', 'intelligence']\n",
      "\n",
      "\n",
      "THE TOP 15 WORDS FOR TOPIC 1\n",
      "['bounding', 'feature', 'region', 'network', 'process', 'moves', 'value', 'matrix', 'cnn', 'image', 'rcnn', 'features', 'input', 'output', 'layer']\n",
      "\n",
      "\n",
      "THE TOP 15 WORDS FOR TOPIC 2\n",
      "['different', 'simple', 'learn', 'weights', 'value', 'algorithm', 'using', 'use', 'networks', 'learning', 'training', 'data', 'function', 'neural', 'network']\n",
      "\n",
      "\n",
      "THE TOP 15 WORDS FOR TOPIC 3\n",
      "['need', 'ai', 'know', 'work', 'time', 'make', 'use', 'lot', 'don', 'new', 'really', 'game', 'data', 'like', 'people']\n",
      "\n",
      "\n",
      "THE TOP 15 WORDS FOR TOPIC 4\n",
      "['rating', 'available', 'hours', 'average', 'google', 'ai', 'free', 'python', 'algorithms', 'science', 'course', 'deep', 'data', 'machine', 'learning']\n",
      "\n",
      "\n",
      "THE TOP 15 WORDS FOR TOPIC 5\n",
      "['systems', 'important', '1080', 'research', 'computational', 'new', 'like', 'cpu', 'feature', 'gtx', 'pacman', 'features', 'power', 'human', 'data']\n",
      "\n",
      "\n",
      "THE TOP 15 WORDS FOR TOPIC 6\n",
      "['google', 'news', 'time', 'machine', 'like', 'data', 'people', 'new', 'article', 'cheer', 'ovation', 'standing', 'clap', 'quick', 'enjoyed']\n",
      "\n",
      "\n",
      "THE TOP 15 WORDS FOR TOPIC 7\n",
      "['future', 'artificial', 'social', 'men', 'women', 'work', 'face', 'people', 'technology', 'new', 'humans', 'like', 'intelligence', 'human', 'ai']\n",
      "\n",
      "\n",
      "THE TOP 15 WORDS FOR TOPIC 8\n",
      "['like', 'dataset', 'learning', 'network', 'app', 'code', 'using', 'neural', 'run', 'use', 'tensorflow', 'time', 'images', 'training', 'model']\n",
      "\n",
      "\n",
      "THE TOP 15 WORDS FOR TOPIC 9\n",
      "['translation', 'time', 'training', 'text', 'different', 'example', 'word', 'image', 'use', 'like', 'network', 'words', 'neural', 'data', 'model']\n",
      "\n",
      "\n"
     ]
    }
   ],
   "source": [
    "for i,topic in enumerate(LDA.components_):\n",
    "    print(f\"THE TOP 15 WORDS FOR TOPIC {i}\")\n",
    "    print([cv.get_feature_names()[index] for index in topic.argsort()[-15:] ])\n",
    "    print(\"\\n\")"
   ]
  },
  {
   "cell_type": "code",
   "execution_count": 16,
   "metadata": {
    "pycharm": {
     "name": "#%%\n"
    }
   },
   "outputs": [
    {
     "name": "stdout",
     "output_type": "stream",
     "text": [
      "1409\n"
     ]
    }
   ],
   "source": [
    "topic_results = LDA.transform(dtm)\n",
    "print(topic_results.argmax())"
   ]
  },
  {
   "cell_type": "code",
   "execution_count": 11,
   "metadata": {
    "pycharm": {
     "name": "#%%\n"
    }
   },
   "outputs": [],
   "source": [
    "len(topic_results)\n",
    "df[\"LDA\"] = topic_results.argmax(axis=1)"
   ]
  },
  {
   "cell_type": "code",
   "execution_count": 12,
   "metadata": {
    "pycharm": {
     "name": "#%%\n"
    }
   },
   "outputs": [
    {
     "data": {
      "text/plain": "                                             content  \\\n0  Oh, how the headlines blared:Chatbots were The...   \n1  Bots can interface with users in different way...   \n2  Basically, weÃ¢â‚¬â„¢re still trying to achiev...   \n3  Modern-day apps benefit from decades of resear...   \n4  Problems arise when life refuses to fit into t...   \n\n                                     content_cleaned  LDA  \n0  Oh headlines blaredChatbots The Next Big Thing...    7  \n1  Bots interface users different ways The big di...    5  \n2  Basically we   still trying achieve innovation...    3  \n3  Modernday apps benefit decades research experi...    0  \n4  Problems arise life refuses fit boxesAccording...    0  ",
      "text/html": "<div>\n<style scoped>\n    .dataframe tbody tr th:only-of-type {\n        vertical-align: middle;\n    }\n\n    .dataframe tbody tr th {\n        vertical-align: top;\n    }\n\n    .dataframe thead th {\n        text-align: right;\n    }\n</style>\n<table border=\"1\" class=\"dataframe\">\n  <thead>\n    <tr style=\"text-align: right;\">\n      <th></th>\n      <th>content</th>\n      <th>content_cleaned</th>\n      <th>LDA</th>\n    </tr>\n  </thead>\n  <tbody>\n    <tr>\n      <th>0</th>\n      <td>Oh, how the headlines blared:Chatbots were The...</td>\n      <td>Oh headlines blaredChatbots The Next Big Thing...</td>\n      <td>7</td>\n    </tr>\n    <tr>\n      <th>1</th>\n      <td>Bots can interface with users in different way...</td>\n      <td>Bots interface users different ways The big di...</td>\n      <td>5</td>\n    </tr>\n    <tr>\n      <th>2</th>\n      <td>Basically, weÃ¢â‚¬â„¢re still trying to achiev...</td>\n      <td>Basically we   still trying achieve innovation...</td>\n      <td>3</td>\n    </tr>\n    <tr>\n      <th>3</th>\n      <td>Modern-day apps benefit from decades of resear...</td>\n      <td>Modernday apps benefit decades research experi...</td>\n      <td>0</td>\n    </tr>\n    <tr>\n      <th>4</th>\n      <td>Problems arise when life refuses to fit into t...</td>\n      <td>Problems arise life refuses fit boxesAccording...</td>\n      <td>0</td>\n    </tr>\n  </tbody>\n</table>\n</div>"
     },
     "execution_count": 12,
     "metadata": {},
     "output_type": "execute_result"
    }
   ],
   "source": [
    "df.head()\n",
    "\n",
    "# NN , #\n",
    "Topic A = A + 1/2 B\n",
    "\n",
    "Topic C = 1/2 A + 1/2 B\n",
    "\n",
    "Topic D = 3/4 A + 3/4 B\n",
    "\n",
    "\n",
    "df[\"content\"][4]"
   ]
  },
  {
   "cell_type": "code",
   "execution_count": 13,
   "metadata": {},
   "outputs": [],
   "source": []
  }
 ],
 "metadata": {
  "kernelspec": {
   "display_name": "Python 3",
   "language": "python",
   "name": "python3"
  },
  "language_info": {
   "codemirror_mode": {
    "name": "ipython",
    "version": 3
   },
   "file_extension": ".py",
   "mimetype": "text/x-python",
   "name": "python",
   "nbconvert_exporter": "python",
   "pygments_lexer": "ipython3",
   "version": "3.7.7"
  }
 },
 "nbformat": 4,
 "nbformat_minor": 1
}